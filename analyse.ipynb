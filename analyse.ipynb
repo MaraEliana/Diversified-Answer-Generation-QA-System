{
 "cells": [
  {
   "cell_type": "code",
   "execution_count": 1,
   "metadata": {},
   "outputs": [],
   "source": [
    "import json\n",
    "from urllib.parse import urlparse, urlunparse\n",
    "import requests\n",
    "from tqdm import tqdm"
   ]
  },
  {
   "cell_type": "code",
   "execution_count": 2,
   "metadata": {},
   "outputs": [
    {
     "name": "stdout",
     "output_type": "stream",
     "text": [
      "Total number of URLs: 1803\n",
      "Sorted prefix counts saved to prefix_counts.json\n"
     ]
    }
   ],
   "source": [
    "# Input file with URLs\n",
    "pdf_file = \"pdf_urls.json\"\n",
    "non_pdf_file = \"non_pdf_urls.json\"\n",
    "output_file = \"prefix_counts.json\"\n",
    "\n",
    "with open(pdf_file, \"r\") as file:\n",
    "    pdf_urls = json.load(file)\n",
    "\n",
    "with open(non_pdf_file, \"r\") as file:\n",
    "    non_pdf_urls = json.load(file)\n",
    "\n",
    "urls = pdf_urls + non_pdf_urls\n",
    "# Extract prefixes and count their occurrences\n",
    "prefix_counts = {}\n",
    "for url in urls:\n",
    "    # Parse the URL to extract the scheme and netloc\n",
    "    parsed_url = urlparse(url)\n",
    "    prefix = f\"{parsed_url.scheme}://{parsed_url.netloc}\"\n",
    "    prefix_counts[prefix] = prefix_counts.get(prefix, 0) + 1\n",
    "\n",
    "# Calculate the total count\n",
    "total_count = sum(prefix_counts.values())\n",
    "\n",
    "# Sort prefixes by counts in descending order\n",
    "sorted_prefix_counts = sorted(prefix_counts.items(), key=lambda x: x[1], reverse=True)\n",
    "\n",
    "# Convert to a dictionary for saving (optional, as JSON supports list of tuples)\n",
    "sorted_prefix_counts_dict = {k: v for k, v in sorted_prefix_counts}\n",
    "\n",
    "# Save the sorted counts to a JSON file\n",
    "with open(output_file, \"w\") as file:\n",
    "    json.dump(sorted_prefix_counts_dict, file, indent=4)\n",
    "\n",
    "# Print the total count and save confirmation\n",
    "print(f\"Total number of URLs: {total_count}\")\n",
    "print(f\"Sorted prefix counts saved to {output_file}\")"
   ]
  },
  {
   "cell_type": "code",
   "execution_count": 3,
   "metadata": {},
   "outputs": [
    {
     "name": "stdout",
     "output_type": "stream",
     "text": [
      "Collected 135 unique URLs and saved to unique_pdf_urls.json.\n"
     ]
    }
   ],
   "source": [
    "def normalize_url(url: str) -> str:\n",
    "    \"\"\"Normalize URL by converting http to https and removing trailing slashes.\"\"\"\n",
    "    parsed_url = urlparse(url)\n",
    "    normalized = urlunparse((\"https\",) + parsed_url[1:])\n",
    "    return normalized.rstrip(\"/\")\n",
    "\n",
    "# Load URLs from non_pdf_urls.json\n",
    "input_file = \"pdf_urls.json\"\n",
    "output_file = \"unique_pdf_urls.json\"\n",
    "\n",
    "with open(input_file, 'r', encoding='utf-8') as f:\n",
    "    urls = json.load(f)\n",
    "\n",
    "# Normalize and remove duplicates using a set\n",
    "unique_urls = {normalize_url(url) for url in urls}\n",
    "\n",
    "# Save the cleaned URLs back to a new JSON file\n",
    "with open(output_file, 'w', encoding='utf-8') as f:\n",
    "    json.dump(sorted(unique_urls), f, indent=2)\n",
    "\n",
    "print(f\"Collected {len(unique_urls)} unique URLs and saved to {output_file}.\")\n"
   ]
  }
 ],
 "metadata": {
  "kernelspec": {
   "display_name": "qa_practical",
   "language": "python",
   "name": "python3"
  },
  "language_info": {
   "codemirror_mode": {
    "name": "ipython",
    "version": 3
   },
   "file_extension": ".py",
   "mimetype": "text/x-python",
   "name": "python",
   "nbconvert_exporter": "python",
   "pygments_lexer": "ipython3",
   "version": "3.13.0"
  }
 },
 "nbformat": 4,
 "nbformat_minor": 2
}
