{
 "cells": [
  {
   "cell_type": "markdown",
   "metadata": {},
   "source": [
    "## Evaluation"
   ]
  },
  {
   "cell_type": "code",
   "execution_count": null,
   "metadata": {},
   "outputs": [],
   "source": [
    "%pip install deepeval ipywidgets"
   ]
  },
  {
   "cell_type": "code",
   "execution_count": 24,
   "metadata": {},
   "outputs": [],
   "source": [
    "import json\n",
    "import os\n",
    "from deepeval.test_case import LLMTestCase\n",
    "from deepeval.metrics import (ContextualPrecisionMetric, ContextualRecallMetric, ContextualRelevancyMetric)\n",
    "from deepeval.metrics import AnswerRelevancyMetric, FaithfulnessMetric\n",
    "import pandas as pd\n",
    "import numpy as np\n",
    "import matplotlib.pyplot as plt"
   ]
  },
  {
   "cell_type": "code",
   "execution_count": 10,
   "metadata": {},
   "outputs": [],
   "source": [
    "def load_data_from_json(file_path):\n",
    "    \"\"\"Loads data from a single JSON file.\"\"\"\n",
    "    with open(file_path, \"r\") as f:\n",
    "        data = json.load(f)\n",
    "    return data\n",
    "\n",
    "def load_data_from_multiple_files(directory_path, file_extension=\"json\"):\n",
    "    \"\"\"Loads data from multiple files (either JSON or JSONL).\"\"\"\n",
    "    data = []\n",
    "    for filename in os.listdir(directory_path):\n",
    "        if filename.endswith(file_extension):\n",
    "            file_path = os.path.join(directory_path, filename)\n",
    "            if file_extension == \"json\":\n",
    "                data.append(load_data_from_json(file_path))\n",
    "    return data"
   ]
  },
  {
   "cell_type": "code",
   "execution_count": 11,
   "metadata": {},
   "outputs": [],
   "source": [
    "def create_deep_eval_test_cases(questions, gt_answers, generated_answers, retrieved_documents):\n",
    "    return [\n",
    "        LLMTestCase(\n",
    "            input=question,\n",
    "            expected_output=gt_answer,\n",
    "            actual_output=generated_answer,\n",
    "            retrieval_context=retrieved_document\n",
    "        )\n",
    "        for question, gt_answer, generated_answer, retrieved_document in zip(\n",
    "            questions, gt_answers, generated_answers, retrieved_documents\n",
    "        )\n",
    "    ]"
   ]
  },
  {
   "cell_type": "code",
   "execution_count": 18,
   "metadata": {},
   "outputs": [],
   "source": [
    "def evaluate_test_cases(test_cases):    \n",
    "    contextual_precision_scores = []\n",
    "    contextual_recall_scores = []\n",
    "    contextual_relevancy_scores = []\n",
    "    answer_relevancy_scores = []\n",
    "    faithfulness_scores = []\n",
    "    # Run it for the first 50 test cases\n",
    "    for i, test_case in enumerate(test_cases[:50]):\n",
    "        print(f\"Processing test case {i+1}/{len(test_cases)}\")\n",
    "        # retrieval metrics\n",
    "        contextual_precision = ContextualPrecisionMetric()\n",
    "        contextual_recall = ContextualRecallMetric()\n",
    "        contextual_relevancy = ContextualRelevancyMetric()\n",
    "        # generation metrics\n",
    "        answer_relevancy = AnswerRelevancyMetric()\n",
    "        faithfulness = FaithfulnessMetric()\n",
    "        # evaluate\n",
    "        contextual_precision.measure(test_case)\n",
    "        print(\"Computed contextual precision\")\n",
    "        contextual_recall.measure(test_case)\n",
    "        print(\"Computed contextual recall\")\n",
    "        contextual_relevancy.measure(test_case)\n",
    "        print(\"Computed contextual relevancy\")\n",
    "        answer_relevancy.measure(test_case)\n",
    "        print(\"Computed answer relevancy\")\n",
    "        faithfulness.measure(test_case)\n",
    "        print(\"Computed faithfulness\")\n",
    "        # store results\n",
    "        contextual_precision_scores.append(contextual_precision.score)\n",
    "        contextual_recall_scores.append(contextual_recall.score)\n",
    "        contextual_relevancy_scores.append(contextual_relevancy.score)\n",
    "        answer_relevancy_scores.append(answer_relevancy.score)\n",
    "        faithfulness_scores.append(faithfulness.score)\n",
    "    return contextual_precision_scores, contextual_recall_scores, contextual_relevancy_scores, answer_relevancy_scores, faithfulness_scores"
   ]
  },
  {
   "cell_type": "markdown",
   "metadata": {},
   "source": [
    "### Evaluation of RAG pipeline with the Simple Retriever"
   ]
  },
  {
   "cell_type": "code",
   "execution_count": null,
   "metadata": {},
   "outputs": [],
   "source": [
    "directory_path = \"qa_results_simple_retriever\"\n",
    "file_extension = \"json\"\n",
    "data = load_data_from_multiple_files(directory_path, file_extension=file_extension)"
   ]
  },
  {
   "cell_type": "code",
   "execution_count": 5,
   "metadata": {},
   "outputs": [],
   "source": [
    "questions = []\n",
    "gt_answers = []\n",
    "generated_answers = []\n",
    "retrieved_documents = []\n",
    "for item in data:\n",
    "    questions.append(item[\"question\"])\n",
    "    gt_answers.append(item[\"ground_truth_answer\"])\n",
    "    generated_answers.append(item[\"generated_answer\"])\n",
    "    retrieved_documents.append(item[\"retrieved_documents\"])"
   ]
  },
  {
   "cell_type": "code",
   "execution_count": null,
   "metadata": {},
   "outputs": [],
   "source": [
    "test_cases_simple = create_deep_eval_test_cases(questions, gt_answers, generated_answers, retrieved_documents)\n",
    "contextual_precision_scores, contextual_recall_scores, contextual_relevancy_scores, answer_relevancy_scores, faithfulness_scores = evaluate_test_cases(test_cases_simple)"
   ]
  },
  {
   "cell_type": "code",
   "execution_count": null,
   "metadata": {},
   "outputs": [],
   "source": [
    "# Create DataFrame\n",
    "df_scores_simple = pd.DataFrame({\n",
    "    \"Contextual Precision\": contextual_precision_scores,\n",
    "    \"Contextual Recall\": contextual_recall_scores,\n",
    "    \"Contextual Relevancy\": contextual_relevancy_scores,\n",
    "    \"Answer Relevancy\": answer_relevancy_scores,\n",
    "    \"Faithfulness\": faithfulness_scores\n",
    "})\n",
    "\n",
    "df_scores_simple.head()"
   ]
  },
  {
   "cell_type": "code",
   "execution_count": null,
   "metadata": {},
   "outputs": [
    {
     "data": {
      "text/plain": [
       "Contextual Precision    0.803333\n",
       "Contextual Recall       0.643244\n",
       "Contextual Relevancy    0.677705\n",
       "Answer Relevancy        0.891988\n",
       "Faithfulness            0.961027\n",
       "dtype: float64"
      ]
     },
     "execution_count": 13,
     "metadata": {},
     "output_type": "execute_result"
    }
   ],
   "source": [
    "# compute average scores\n",
    "average_scores_simple = df_scores_simple.mean()\n",
    "average_scores_simple"
   ]
  },
  {
   "cell_type": "markdown",
   "metadata": {},
   "source": [
    "### Evaluation of the RAG Pipeline with the MMR Retriever"
   ]
  },
  {
   "cell_type": "code",
   "execution_count": null,
   "metadata": {},
   "outputs": [],
   "source": [
    "directory_path = \"qa_results_mmr_retriever\"\n",
    "file_extension = \"json\"\n",
    "data_mmr = load_data_from_multiple_files(directory_path, file_extension=file_extension)\n",
    "questions = []\n",
    "gt_answers = []\n",
    "generated_answers = []\n",
    "retrieved_documents = []\n",
    "for item in data_mmr:\n",
    "    questions.append(item[\"question\"])\n",
    "    gt_answers.append(item[\"ground_truth_answer\"])\n",
    "    generated_answers.append(item[\"generated_answer\"])\n",
    "    retrieved_documents.append(item[\"retrieved_documents\"])\n",
    "\n",
    "test_cases_mmr = create_deep_eval_test_cases(questions, gt_answers, generated_answers, retrieved_documents)\n",
    "contextual_precision_scores, contextual_recall_scores, contextual_relevancy_scores, answer_relevancy_scores, faithfulness_scores = evaluate_test_cases(test_cases_mmr)"
   ]
  },
  {
   "cell_type": "code",
   "execution_count": null,
   "metadata": {},
   "outputs": [],
   "source": [
    "df_scores_mmr = pd.DataFrame({\n",
    "    \"Contextual Precision\": contextual_precision_scores,\n",
    "    \"Contextual Recall\": contextual_recall_scores,\n",
    "    \"Contextual Relevancy\": contextual_relevancy_scores,\n",
    "    \"Answer Relevancy\": answer_relevancy_scores,\n",
    "    \"Faithfulness\": faithfulness_scores\n",
    "})\n",
    "\n",
    "df_scores_mmr"
   ]
  },
  {
   "cell_type": "code",
   "execution_count": 21,
   "metadata": {},
   "outputs": [
    {
     "data": {
      "text/plain": [
       "Contextual Precision    0.840000\n",
       "Contextual Recall       0.643308\n",
       "Contextual Relevancy    0.610674\n",
       "Answer Relevancy        0.876248\n",
       "Faithfulness            0.959725\n",
       "dtype: float64"
      ]
     },
     "execution_count": 21,
     "metadata": {},
     "output_type": "execute_result"
    }
   ],
   "source": [
    "# compute average scores\n",
    "average_scores_mmr = df_scores_mmr.mean()\n",
    "average_scores_mmr"
   ]
  },
  {
   "cell_type": "code",
   "execution_count": 22,
   "metadata": {},
   "outputs": [],
   "source": [
    "simple_retriever_scores = {\n",
    "    \"Contextual Precision\": 0.803333,\n",
    "    \"Contextual Recall\": 0.643244,\n",
    "    \"Contextual Relevancy\": 0.677705,\n",
    "    \"Answer Relevancy\": 0.891988,\n",
    "    \"Faithfulness\": 0.961027\n",
    "}\n",
    "\n",
    "mmr_retriever_scores = {\n",
    "    \"Contextual Precision\": 0.840000,\n",
    "    \"Contextual Recall\": 0.643308,\n",
    "    \"Contextual Relevancy\": 0.610674,\n",
    "    \"Answer Relevancy\":  0.876248,\n",
    "    \"Faithfulness\":  0.959725\n",
    "}"
   ]
  },
  {
   "cell_type": "code",
   "execution_count": null,
   "metadata": {},
   "outputs": [
    {
     "data": {
      "image/png": "[encoded data removed]",
      "text/plain": [
       "<Figure size 1000x600 with 1 Axes>"
      ]
     },
     "metadata": {},
     "output_type": "display_data"
    }
   ],
   "source": [
    "# Extract metric names and values\n",
    "metrics = list(simple_retriever_scores.keys())\n",
    "values1 = list(simple_retriever_scores.values())\n",
    "values2 = list(mmr_retriever_scores.values())\n",
    "\n",
    "# Create the bar plot\n",
    "x = np.arange(len(metrics))  \n",
    "width = 0.35  # Width of the bars\n",
    "fig, ax = plt.subplots(figsize=(10, 6))\n",
    "bars1 = ax.bar(x - width/2, values1, width, label='Simple Retriever', color='royalblue')\n",
    "bars2 = ax.bar(x + width/2, values2, width, label='MMR Retriever', color='tomato')\n",
    "ax.set_xlabel(\"Metrics\")\n",
    "ax.set_ylabel(\"Scores\")\n",
    "ax.set_title(\"Comparison of Metrics for Different Retrieval Strategies\")\n",
    "ax.set_xticks(x)\n",
    "ax.set_xticklabels(metrics, rotation=30, ha=\"right\")\n",
    "ax.legend()\n",
    "plt.tight_layout()\n",
    "plt.show()"
   ]
  }
 ],
 "metadata": {
  "kernelspec": {
   "display_name": "ml_homework",
   "language": "python",
   "name": "python3"
  },
  "language_info": {
   "codemirror_mode": {
    "name": "ipython",
    "version": 3
   },
   "file_extension": ".py",
   "mimetype": "text/x-python",
   "name": "python",
   "nbconvert_exporter": "python",
   "pygments_lexer": "ipython3",
   "version": "3.12.3"
  }
 },
 "nbformat": 4,
 "nbformat_minor": 2
}
