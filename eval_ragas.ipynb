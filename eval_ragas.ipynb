{
 "cells": [
  {
   "cell_type": "code",
   "execution_count": 1,
   "metadata": {},
   "outputs": [
    {
     "name": "stderr",
     "output_type": "stream",
     "text": [
      "c:\\Users\\Mara\\anaconda3\\envs\\ml_homework\\Lib\\site-packages\\tqdm\\auto.py:21: TqdmWarning: IProgress not found. Please update jupyter and ipywidgets. See https://ipywidgets.readthedocs.io/en/stable/user_install.html\n",
      "  from .autonotebook import tqdm as notebook_tqdm\n"
     ]
    }
   ],
   "source": [
    "import json\n",
    "import os\n",
    "from dotenv import load_dotenv\n",
    "from ragas import EvaluationDataset, evaluate\n",
    "from ragas.llms import LangchainLLMWrapper\n",
    "from langchain_openai import ChatOpenAI\n",
    "from langchain_openai import OpenAIEmbeddings"
   ]
  },
  {
   "cell_type": "code",
   "execution_count": 2,
   "metadata": {},
   "outputs": [],
   "source": [
    "from ragas.metrics import (\n",
    "    answer_relevancy,\n",
    "    faithfulness,\n",
    "    context_recall,\n",
    "    context_precision,\n",
    ")\n",
    "from langchain_ollama import ChatOllama, OllamaEmbeddings\n",
    "from ragas import evaluate"
   ]
  },
  {
   "cell_type": "code",
   "execution_count": 3,
   "metadata": {},
   "outputs": [],
   "source": [
    "def load_data_from_json(file_path):\n",
    "    \"\"\"Loads data from a single JSON file.\"\"\"\n",
    "    with open(file_path, \"r\") as f:\n",
    "        data = json.load(f)\n",
    "    return data\n",
    "\n",
    "def load_data_from_multiple_files(directory_path, file_extension=\"json\"):\n",
    "    \"\"\"Loads data from multiple files (either JSON or JSONL).\"\"\"\n",
    "    data = []\n",
    "    for filename in os.listdir(directory_path):\n",
    "        if filename.endswith(file_extension):\n",
    "            file_path = os.path.join(directory_path, filename)\n",
    "            if file_extension == \"json\":\n",
    "                data.append(load_data_from_json(file_path))\n",
    "    return data"
   ]
  },
  {
   "cell_type": "code",
   "execution_count": 7,
   "metadata": {},
   "outputs": [
    {
     "name": "stdout",
     "output_type": "stream",
     "text": [
      "Loading data...\n"
     ]
    }
   ],
   "source": [
    "directory_path = \"qa_results_simple_retriever\"\n",
    "file_extension = \"json\"\n",
    "evaluation_file = \"evaluation_results_simple_retriever.json\"\n",
    "\n",
    "# Load the data\n",
    "print(\"Loading data...\")\n",
    "data = load_data_from_multiple_files(directory_path, file_extension=file_extension)\n",
    "dataset = []\n",
    "for item in data:\n",
    "    dataset.append(\n",
    "        {\n",
    "            \"user_input\": item[\"question\"],\n",
    "            \"retrieved_contexts\": item[\"retrieved_documents\"],\n",
    "            \"response\":item[\"generated_answer\"],\n",
    "            \"reference\":item[\"ground_truth_answer\"]\n",
    "        }\n",
    "    )\n",
    "evaluation_dataset = EvaluationDataset.from_list(dataset)"
   ]
  },
  {
   "cell_type": "code",
   "execution_count": 8,
   "metadata": {},
   "outputs": [],
   "source": [
    "langchain_llm = ChatOllama(model=\"llama3.2\")\n",
    "langchain_embeddings = OllamaEmbeddings(model=\"llama3.2\")"
   ]
  },
  {
   "cell_type": "code",
   "execution_count": null,
   "metadata": {},
   "outputs": [],
   "source": [
    "result = evaluate(evaluation_dataset,\n",
    "                  metrics=[\n",
    "                            context_precision,\n",
    "                            faithfulness,\n",
    "                            answer_relevancy,\n",
    "                            context_recall], \n",
    "                    llm=langchain_llm, \n",
    "                    embeddings=langchain_embeddings)"
   ]
  },
  {
   "cell_type": "code",
   "execution_count": null,
   "metadata": {},
   "outputs": [],
   "source": [
    "result"
   ]
  }
 ],
 "metadata": {
  "kernelspec": {
   "display_name": "ml_homework",
   "language": "python",
   "name": "python3"
  },
  "language_info": {
   "codemirror_mode": {
    "name": "ipython",
    "version": 3
   },
   "file_extension": ".py",
   "mimetype": "text/x-python",
   "name": "python",
   "nbconvert_exporter": "python",
   "pygments_lexer": "ipython3",
   "version": "3.12.3"
  }
 },
 "nbformat": 4,
 "nbformat_minor": 2
}
